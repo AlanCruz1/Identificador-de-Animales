{
 "cells": [
  {
   "cell_type": "markdown",
   "metadata": {},
   "source": [
    "# Clasificar imágenes"
   ]
  },
  {
   "cell_type": "code",
   "execution_count": 183,
   "metadata": {},
   "outputs": [],
   "source": [
    "import torch.nn as nn\n",
    "import torch.optim as optim\n",
    "import matplotlib.pyplot as plt\n",
    "import torchvision.transforms as transforms\n",
    "from sklearn.metrics import confusion_matrix\n",
    "import torch\n",
    "import os\n",
    "import torch.nn.functional as F"
   ]
  },
  {
   "cell_type": "code",
   "execution_count": 184,
   "metadata": {},
   "outputs": [],
   "source": [
    "def contarCorrectas(net, batch, labels, func=None):\n",
    "    '''Dado un batch y sus etiquetas, cuenta el número de respuestas\n",
    "    correctas de una red. El parámetro func aplica una modificación al \n",
    "    tensor que contiene los datos.'''\n",
    "    \n",
    "    if func is not None:\n",
    "        batch = func(batch)\n",
    "    salidas = net(batch)\n",
    "    respuestas = salidas.max(dim=1)[1]\n",
    "    cantidadCorrectas = (respuestas == labels).sum()\n",
    "    return cantidadCorrectas.item()\n",
    "\n",
    "def calcularPrecisionGlobal(net, data_loader, batch_size, func=None, cuda=False):\n",
    "    '''Calcula la precisión de una red dado un data_loader.\n",
    "    Recibe una función que transforma los datos en caso de ser necesario.'''\n",
    "    \n",
    "    correctas = 0\n",
    "    for images, labels in data_loader:\n",
    "        if cuda and torch.cuda.is_available():\n",
    "            images = images.cuda()\n",
    "            labels = labels.cuda()\n",
    "        correctas += contarCorrectas(net, images, labels, func)\n",
    "    \n",
    "    return (100 * correctas) / (len(data_loader) * batch_size)\n"
   ]
  },
  {
   "cell_type": "code",
   "execution_count": 185,
   "metadata": {},
   "outputs": [],
   "source": [
    "# Definimos las clases\n",
    "classes = ('pajaro', 'gato', 'perro', 'rana')\n",
    "\n",
    "# Función para cargar imágenes y etiquetas\n",
    "def cargar_imagenes(ruta, transform):\n",
    "    imagenes = []\n",
    "    etiquetas = []\n",
    "    for etiqueta, clase in enumerate(classes):\n",
    "        ruta_clase = os.path.join(ruta, clase)\n",
    "        for archivo in os.listdir(ruta_clase):\n",
    "            if archivo.endswith(\".jpeg\") or archivo.endswith(\".jpg\") or archivo.endswith(\".png\"):\n",
    "                img_path = os.path.join(ruta_clase, archivo)\n",
    "                img = Image.open(img_path)\n",
    "                img = transform(img)\n",
    "                imagenes.append(img)\n",
    "                etiquetas.append(etiqueta)\n",
    "    return imagenes, etiquetas\n",
    "transform = transforms.Compose([transforms.Resize((32, 32)), transforms.ToTensor()])\n",
    "# Transformación para las imágenes\n",
    "imagenes, etiquetas = cargar_imagenes('Test', transform)\n",
    "# Verificar si se cargaron imágenes\n",
    "if len(imagenes) == 0:\n",
    "    raise ValueError(\"No se encontraron imágenes en las carpetas especificadas.\")\n",
    "\n",
    "# Convertir listas a tensores\n",
    "imagenes = torch.stack(imagenes)\n",
    "etiquetas = torch.tensor(etiquetas)\n",
    "\n",
    "# Crear DataLoader\n",
    "train_dataset = torch.utils.data.TensorDataset(imagenes, etiquetas)\n",
    "train_loader = torch.utils.data.DataLoader(train_dataset, batch_size=4, shuffle=True)\n",
    "\n"
   ]
  },
  {
   "cell_type": "code",
   "execution_count": 186,
   "metadata": {},
   "outputs": [],
   "source": [
    "#airplane, automobile, bird, cat, deer, dog, frog, horse, ship, and truck.\n",
    "\n",
    "class Net(nn.Module):\n",
    "    def __init__(self):\n",
    "        '''\n",
    "        Construcción de la Red, define las capas que se utiizaran.\n",
    "        '''\n",
    "        super(Net, self).__init__()\n",
    "        \n",
    "        #Toma en cuenta el constructor de las capas convolucionales\n",
    "        self.conv1 = torch.nn.Conv2d(3, 64, kernel_size=5,stride=1, padding=1)\n",
    "        self.pool  = torch.nn.MaxPool2d(kernel_size=3, stride=3, padding=0)\n",
    "        self.conv2 = torch.nn.Conv2d(64, 32, kernel_size=5,stride=1, padding=1)\n",
    "\n",
    "        self.fc1 = nn.Linear(32 * 2 * 2 , 384)  \n",
    "        self.fc2 = nn.Linear(384, 192)\n",
    "        self.fc3 = nn.Linear(192, 4)  \n",
    "\n",
    "    def forward(self, x):\n",
    "        '''\n",
    "        Define el orden con el que se realizará la propagación hacia adelante\n",
    "        de la red.\n",
    "        '''\n",
    "        x = F.relu(self.conv1(x))\n",
    "        x = self.pool(x)\n",
    "        x = F.relu(self.conv2(x))\n",
    "        x = self.pool(x)\n",
    "        x = x.view(-1, 32 * 2 * 2)\n",
    "        x = F.relu(self.fc1(x))\n",
    "        x = F.relu(self.fc2(x))\n",
    "        x = self.fc3(x)\n",
    "        return (x)\n",
    "    \n",
    "    def train(self, epochs, data_loader, criterion, optimizer, cuda=False):\n",
    "        '''\n",
    "        Define una función de entrenamiento, ten en cuenta la forma en la que llegan \n",
    "        los datos de data_loader, e itera sobre ellos. Realiza también el caso \n",
    "        en que se llegue a utilizar cuda. Muestra una gráfica al finalizar el\n",
    "        entrenamiento usando el lost obtenido.\n",
    "        '''\n",
    "    \n",
    "        loss_values = [] \n",
    "    \n",
    "        if cuda and torch.cuda.is_available():\n",
    "            self.cuda()\n",
    "    \n",
    "        for epoch in range(epochs):\n",
    "            running_loss = 0.0\n",
    "            for i, data in enumerate(data_loader, 0):\n",
    "                inputs, labels = data\n",
    "                if cuda and torch.cuda.is_available():\n",
    "                    inputs, labels = inputs.cuda(), labels.cuda()\n",
    "\n",
    "                optimizer.zero_grad()\n",
    "                outputs = self(inputs)\n",
    "                loss = criterion(outputs, labels)\n",
    "                loss.backward()\n",
    "                optimizer.step()\n",
    "                running_loss += loss.item()\n",
    "\n",
    "            epoch_loss = running_loss / len(data_loader)\n",
    "            loss_values.append(epoch_loss)\n",
    "            print(f'Epoch {epoch + 1}/{epochs}, Loss: {epoch_loss:.4f}')\n",
    "\n",
    "        plt.plot(loss_values)\n",
    "        plt.xlabel('Epochs')\n",
    "        plt.ylabel('Loss')\n",
    "        plt.title('Training Loss')\n",
    "        plt.show()\n",
    "            "
   ]
  },
  {
   "cell_type": "code",
   "execution_count": 187,
   "metadata": {},
   "outputs": [
    {
     "data": {
      "text/plain": [
       "torch.Size([4, 3, 32, 32])"
      ]
     },
     "execution_count": 187,
     "metadata": {},
     "output_type": "execute_result"
    }
   ],
   "source": [
    "# Transformamos la imagen a un tensor\n",
    "transform = transforms.Compose([transforms.ToTensor()])\n",
    "train_features, train_labels = next(iter(train_loader))\n",
    "train_features.shape"
   ]
  },
  {
   "cell_type": "code",
   "execution_count": 188,
   "metadata": {},
   "outputs": [
    {
     "name": "stdout",
     "output_type": "stream",
     "text": [
      "Epoch 1/10, Loss: 1.3868\n",
      "Epoch 2/10, Loss: 1.3867\n",
      "Epoch 3/10, Loss: 1.3866\n",
      "Epoch 4/10, Loss: 1.3864\n",
      "Epoch 5/10, Loss: 1.3861\n",
      "Epoch 6/10, Loss: 1.3859\n",
      "Epoch 7/10, Loss: 1.3856\n",
      "Epoch 8/10, Loss: 1.3853\n",
      "Epoch 9/10, Loss: 1.3850\n",
      "Epoch 10/10, Loss: 1.3846\n"
     ]
    },
    {
     "data": {
      "image/png": "[encoded data removed]",
      "text/plain": [
       "<Figure size 640x480 with 1 Axes>"
      ]
     },
     "metadata": {},
     "output_type": "display_data"
    },
    {
     "name": "stdout",
     "output_type": "stream",
     "text": [
      "Precisión global: 25.0000%\n"
     ]
    }
   ],
   "source": [
    "# Instanciamos la red\n",
    "net = Net()\n",
    "\n",
    "# Definimos la función de pérdida y el optimizador\n",
    "criterion = nn.CrossEntropyLoss()\n",
    "optimizer = optim.SGD(net.parameters(), lr=0.001, momentum=0.9)\n",
    "\n",
    "# Entrenamos la red\n",
    "net.train(10, train_loader, criterion, optimizer, cuda=True)\n",
    "\n",
    "# Calculamos la precisión global\n",
    "precision = calcularPrecisionGlobal(net, train_loader, 4, cuda=True)\n",
    "print(\"Precisión global: %.4f%%\"%(precision))\n",
    "\n",
    "\n"
   ]
  }
 ],
 "metadata": {
  "kernelspec": {
   "display_name": "base",
   "language": "python",
   "name": "python3"
  },
  "language_info": {
   "codemirror_mode": {
    "name": "ipython",
    "version": 3
   },
   "file_extension": ".py",
   "mimetype": "text/x-python",
   "name": "python",
   "nbconvert_exporter": "python",
   "pygments_lexer": "ipython3",
   "version": "3.12.2"
  }
 },
 "nbformat": 4,
 "nbformat_minor": 2
}
