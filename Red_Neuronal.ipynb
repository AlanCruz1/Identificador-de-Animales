{
  "nbformat": 4,
  "nbformat_minor": 0,
  "metadata": {
    "colab": {
      "provenance": []
    },
    "kernelspec": {
      "name": "python3",
      "display_name": "Python 3"
    },
    "language_info": {
      "name": "python"
    }
  },
  "cells": [
    {
      "cell_type": "code",
      "execution_count": 8,
      "metadata": {
        "id": "rs1shbNeXtOx"
      },
      "outputs": [],
      "source": [
        "import tensorflow as tf\n",
        "import numpy as np"
      ]
    },
    {
      "cell_type": "code",
      "source": [
        "#Haremos que una red neuronal averigue la forma de callular la conversió de grados celsius a fahrenheit\n",
        "celsius = np.array([-40,-10,0,8,15,22,38],dtype=float)\n",
        "fahrenheit = np.array([-40,14,32,46,59,72,100],dtype=float)"
      ],
      "metadata": {
        "id": "5KG3JRQvbAYP"
      },
      "execution_count": 9,
      "outputs": []
    },
    {
      "cell_type": "code",
      "source": [
        "#keras para simplificar redes neuronales\n",
        "#CAPA DENSA: conexiones de una neurona a todas las demás\n",
        "#Solo una neurona y\n",
        "capa=tf.keras.layers.Dense(units=1,input_shape=[1])\n",
        "#Entrenamiento con modelo secuencial\n",
        "modelo = tf.keras.Sequential([capa])"
      ],
      "metadata": {
        "id": "tyuYiixll0dT"
      },
      "execution_count": 10,
      "outputs": []
    },
    {
      "cell_type": "code",
      "source": [
        "#Agregando con más capas\n",
        "oculta1 = tf.keras.layers.Dense(units=3, input_shape=[1])\n",
        "oculta2 = tf.keras.layers.Dense(units=3)\n",
        "salida = tf.keras.layers.Dense(units=1)\n",
        "modelo = tf.keras.Sequential([oculta1,oculta2,salida])"
      ],
      "metadata": {
        "id": "dMbAxqadK9AD"
      },
      "execution_count": 18,
      "outputs": []
    },
    {
      "cell_type": "code",
      "source": [
        "modelo.compile(\n",
        "    optimizer=tf.keras.optimizers.Adam(0.1),#Poco a poco mejorar con taza de aprendizaje\n",
        "    loss = 'mean_squared_error'\n",
        ")"
      ],
      "metadata": {
        "id": "WQwWdGruHPqn"
      },
      "execution_count": 19,
      "outputs": []
    },
    {
      "cell_type": "code",
      "source": [
        "print(\"Comenzando entrenamiento....\")\n",
        "#(Datos de entrada, resultados esperados, cuántas vueltas intentar,)\n",
        "historial = modelo.fit(celsius, fahrenheit, epochs =1000,verbose=False)\n",
        "print(\"Ya entrenó\")"
      ],
      "metadata": {
        "colab": {
          "base_uri": "https://localhost:8080/"
        },
        "id": "1eH_a61wIF-G",
        "outputId": "9618b497-1478-43f3-e9a1-ea524fac0825"
      },
      "execution_count": 20,
      "outputs": [
        {
          "output_type": "stream",
          "name": "stdout",
          "text": [
            "Comenzando entrenamiento....\n",
            "Ya entrenó\n"
          ]
        }
      ]
    },
    {
      "cell_type": "code",
      "source": [
        "#La funcion de perdida dice que tan mal estan los resultados en cada vuelta que dio\n",
        "import matplotlib.pyplot as plt\n",
        "plt.xlabel(\"# Epoca\")\n",
        "plt.ylabel(\"Magnitud de pérdida\")\n",
        "plt.plot(historial.history[\"loss\"])"
      ],
      "metadata": {
        "colab": {
          "base_uri": "https://localhost:8080/",
          "height": 466
        },
        "id": "C39sYebPJOal",
        "outputId": "c08d6f58-4773-4f99-aa00-c5d4861264aa"
      },
      "execution_count": 21,
      "outputs": [
        {
          "output_type": "execute_result",
          "data": {
            "text/plain": [
              "[<matplotlib.lines.Line2D at 0x78fc08a8db10>]"
            ]
          },
          "metadata": {},
          "execution_count": 21
        },
        {
          "output_type": "display_data",
          "data": {
            "text/plain": [
              "<Figure size 640x480 with 1 Axes>"
            ],
            "image/png": "[encoded data removed]"
          },
          "metadata": {}
        }
      ]
    },
    {
      "cell_type": "code",
      "source": [
        "print(\"Ahora la predicción\")\n",
        "resultado = modelo.predict([100.0])\n",
        "print(\"El resultado es\" + str(resultado)+\"fahrenheit\")"
      ],
      "metadata": {
        "colab": {
          "base_uri": "https://localhost:8080/"
        },
        "id": "NDys0jOOJy6E",
        "outputId": "ce064bfb-5b50-47ef-e85c-f04848c23685"
      },
      "execution_count": 22,
      "outputs": [
        {
          "output_type": "stream",
          "name": "stdout",
          "text": [
            "Ahora la predicción\n",
            "1/1 [==============================] - 0s 107ms/step\n",
            "El resultado es[[211.74744]]fahrenheit\n"
          ]
        }
      ]
    },
    {
      "cell_type": "code",
      "source": [
        "print(\"Variables internas del modelo\")\n",
        "print(capa.get_weights())"
      ],
      "metadata": {
        "colab": {
          "base_uri": "https://localhost:8080/"
        },
        "id": "PZhVwjV2KfAk",
        "outputId": "5730fe6a-b56e-4f39-ddaa-cb829e24ef1b"
      },
      "execution_count": 23,
      "outputs": [
        {
          "output_type": "stream",
          "name": "stdout",
          "text": [
            "Variables internas del modelo\n",
            "[array([[1.7983263]], dtype=float32), array([31.90883], dtype=float32)]\n"
          ]
        }
      ]
    },
    {
      "cell_type": "code",
      "source": [
        "print(\"Variables internas del modelo\")\n",
        "print(oculta1.get_weights())\n",
        "print(oculta2.get_weights())\n",
        "print(salida.get_weights())"
      ],
      "metadata": {
        "colab": {
          "base_uri": "https://localhost:8080/"
        },
        "id": "R2hO306GLuNh",
        "outputId": "0aa9f218-eea6-421b-a294-1fb43589f982"
      },
      "execution_count": 24,
      "outputs": [
        {
          "output_type": "stream",
          "name": "stdout",
          "text": [
            "Variables internas del modelo\n",
            "[array([[-0.30692828, -0.885425  , -0.1866313 ]], dtype=float32), array([ 2.7571735, -3.5676825, -3.328824 ], dtype=float32)]\n",
            "[array([[-0.09276908, -1.2856096 ,  0.47657385],\n",
            "       [-0.08453781,  1.3443224 , -0.6932296 ],\n",
            "       [ 0.65331185,  0.3878676 , -0.7777725 ]], dtype=float32), array([-0.98106295, -3.546727  ,  3.3692698 ], dtype=float32)]\n",
            "[array([[-0.25694484],\n",
            "       [-1.0560985 ],\n",
            "       [ 1.4303838 ]], dtype=float32), array([3.2956061], dtype=float32)]\n"
          ]
        }
      ]
    },
    {
      "cell_type": "markdown",
      "source": [],
      "metadata": {
        "id": "DTBnjespmGXP"
      }
    }
  ]
}